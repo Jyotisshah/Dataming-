{
  "nbformat": 4,
  "nbformat_minor": 0,
  "metadata": {
    "colab": {
      "provenance": [],
      "authorship_tag": "ABX9TyPHq5pHmHmCSp4a/iVd1cy1",
      "include_colab_link": true
    },
    "kernelspec": {
      "name": "python3",
      "display_name": "Python 3"
    },
    "language_info": {
      "name": "python"
    }
  },
  "cells": [
    {
      "cell_type": "markdown",
      "metadata": {
        "id": "view-in-github",
        "colab_type": "text"
      },
      "source": [
        "<a href=\"https://colab.research.google.com/github/Jyotisshah/Dataming-/blob/main/Untitled0.ipynb\" target=\"_parent\"><img src=\"https://colab.research.google.com/assets/colab-badge.svg\" alt=\"Open In Colab\"/></a>"
      ]
    },
    {
      "cell_type": "code",
      "execution_count": 2,
      "metadata": {
        "colab": {
          "base_uri": "https://localhost:8080/"
        },
        "id": "Ymkhg8K2hSZn",
        "outputId": "ff5fb5e3-b40a-4266-873d-0d059dcc8eef"
      },
      "outputs": [
        {
          "output_type": "stream",
          "name": "stdout",
          "text": [
            "hey mate\n"
          ]
        }
      ],
      "source": [
        "print(\"hey mate\"\n",
        ")"
      ]
    },
    {
      "cell_type": "markdown",
      "source": [
        "Hey mate how are you doing sor far? how is life?"
      ],
      "metadata": {
        "id": "4ehf3A5fhT4C"
      }
    },
    {
      "cell_type": "markdown",
      "source": [],
      "metadata": {
        "id": "GgYLv4zAhdU7"
      }
    }
  ]
}